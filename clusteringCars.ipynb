{
 "cells": [
  {
   "cell_type": "code",
   "execution_count": 63,
   "metadata": {
    "id": "YNlaO4EKXOf6"
   },
   "outputs": [],
   "source": [
    "import matplotlib.pyplot as plt\n",
    "import pandas as pd\n",
    "from sklearn.cluster import KMeans"
   ]
  },
  {
   "cell_type": "code",
   "execution_count": 64,
   "metadata": {
    "colab": {
     "base_uri": "https://localhost:8080/",
     "height": 206
    },
    "id": "845ze4gwZUrF",
    "outputId": "31fe16a0-dea1-4173-900d-2a6ca692194c"
   },
   "outputs": [
    {
     "name": "stderr",
     "output_type": "stream",
     "text": [
      "/home/gustavo/.local/lib/python3.8/site-packages/IPython/core/interactiveshell.py:3444: FutureWarning: The error_bad_lines argument has been deprecated and will be removed in a future version.\n",
      "\n",
      "\n",
      "  exec(code_obj, self.user_global_ns, self.user_ns)\n"
     ]
    },
    {
     "data": {
      "text/html": [
       "<div>\n",
       "<style scoped>\n",
       "    .dataframe tbody tr th:only-of-type {\n",
       "        vertical-align: middle;\n",
       "    }\n",
       "\n",
       "    .dataframe tbody tr th {\n",
       "        vertical-align: top;\n",
       "    }\n",
       "\n",
       "    .dataframe thead th {\n",
       "        text-align: right;\n",
       "    }\n",
       "</style>\n",
       "<table border=\"1\" class=\"dataframe\">\n",
       "  <thead>\n",
       "    <tr style=\"text-align: right;\">\n",
       "      <th></th>\n",
       "      <th>0</th>\n",
       "      <th>0.1</th>\n",
       "      <th>0.2</th>\n",
       "      <th>1</th>\n",
       "      <th>0.3</th>\n",
       "      <th>0.4</th>\n",
       "      <th>0.5</th>\n",
       "      <th>1.1</th>\n",
       "      <th>1.2</th>\n",
       "      <th>0.6</th>\n",
       "      <th>...</th>\n",
       "      <th>1.4</th>\n",
       "      <th>0.11</th>\n",
       "      <th>0.12</th>\n",
       "      <th>1.5</th>\n",
       "      <th>0.13</th>\n",
       "      <th>0.14</th>\n",
       "      <th>1.6</th>\n",
       "      <th>0.15</th>\n",
       "      <th>0.16</th>\n",
       "      <th>0.17</th>\n",
       "    </tr>\n",
       "  </thead>\n",
       "  <tbody>\n",
       "    <tr>\n",
       "      <th>0</th>\n",
       "      <td>0</td>\n",
       "      <td>0</td>\n",
       "      <td>0</td>\n",
       "      <td>1</td>\n",
       "      <td>0</td>\n",
       "      <td>0</td>\n",
       "      <td>0</td>\n",
       "      <td>1</td>\n",
       "      <td>1</td>\n",
       "      <td>0</td>\n",
       "      <td>...</td>\n",
       "      <td>1</td>\n",
       "      <td>0</td>\n",
       "      <td>0</td>\n",
       "      <td>0</td>\n",
       "      <td>1</td>\n",
       "      <td>0</td>\n",
       "      <td>1</td>\n",
       "      <td>0</td>\n",
       "      <td>0</td>\n",
       "      <td>0</td>\n",
       "    </tr>\n",
       "    <tr>\n",
       "      <th>1</th>\n",
       "      <td>0</td>\n",
       "      <td>0</td>\n",
       "      <td>0</td>\n",
       "      <td>1</td>\n",
       "      <td>0</td>\n",
       "      <td>0</td>\n",
       "      <td>0</td>\n",
       "      <td>1</td>\n",
       "      <td>1</td>\n",
       "      <td>0</td>\n",
       "      <td>...</td>\n",
       "      <td>1</td>\n",
       "      <td>0</td>\n",
       "      <td>0</td>\n",
       "      <td>0</td>\n",
       "      <td>0</td>\n",
       "      <td>1</td>\n",
       "      <td>1</td>\n",
       "      <td>0</td>\n",
       "      <td>0</td>\n",
       "      <td>0</td>\n",
       "    </tr>\n",
       "    <tr>\n",
       "      <th>2</th>\n",
       "      <td>0</td>\n",
       "      <td>0</td>\n",
       "      <td>0</td>\n",
       "      <td>1</td>\n",
       "      <td>0</td>\n",
       "      <td>0</td>\n",
       "      <td>0</td>\n",
       "      <td>1</td>\n",
       "      <td>1</td>\n",
       "      <td>0</td>\n",
       "      <td>...</td>\n",
       "      <td>0</td>\n",
       "      <td>1</td>\n",
       "      <td>0</td>\n",
       "      <td>1</td>\n",
       "      <td>0</td>\n",
       "      <td>0</td>\n",
       "      <td>1</td>\n",
       "      <td>0</td>\n",
       "      <td>0</td>\n",
       "      <td>0</td>\n",
       "    </tr>\n",
       "    <tr>\n",
       "      <th>3</th>\n",
       "      <td>0</td>\n",
       "      <td>0</td>\n",
       "      <td>0</td>\n",
       "      <td>1</td>\n",
       "      <td>0</td>\n",
       "      <td>0</td>\n",
       "      <td>0</td>\n",
       "      <td>1</td>\n",
       "      <td>1</td>\n",
       "      <td>0</td>\n",
       "      <td>...</td>\n",
       "      <td>0</td>\n",
       "      <td>1</td>\n",
       "      <td>0</td>\n",
       "      <td>0</td>\n",
       "      <td>1</td>\n",
       "      <td>0</td>\n",
       "      <td>1</td>\n",
       "      <td>0</td>\n",
       "      <td>0</td>\n",
       "      <td>0</td>\n",
       "    </tr>\n",
       "    <tr>\n",
       "      <th>4</th>\n",
       "      <td>0</td>\n",
       "      <td>0</td>\n",
       "      <td>0</td>\n",
       "      <td>1</td>\n",
       "      <td>0</td>\n",
       "      <td>0</td>\n",
       "      <td>0</td>\n",
       "      <td>1</td>\n",
       "      <td>1</td>\n",
       "      <td>0</td>\n",
       "      <td>...</td>\n",
       "      <td>0</td>\n",
       "      <td>1</td>\n",
       "      <td>0</td>\n",
       "      <td>0</td>\n",
       "      <td>0</td>\n",
       "      <td>1</td>\n",
       "      <td>1</td>\n",
       "      <td>0</td>\n",
       "      <td>0</td>\n",
       "      <td>0</td>\n",
       "    </tr>\n",
       "  </tbody>\n",
       "</table>\n",
       "<p>5 rows × 25 columns</p>\n",
       "</div>"
      ],
      "text/plain": [
       "   0  0.1  0.2  1  0.3  0.4  0.5  1.1  1.2  0.6  ...  1.4  0.11  0.12  1.5  \\\n",
       "0  0    0    0  1    0    0    0    1    1    0  ...    1     0     0    0   \n",
       "1  0    0    0  1    0    0    0    1    1    0  ...    1     0     0    0   \n",
       "2  0    0    0  1    0    0    0    1    1    0  ...    0     1     0    1   \n",
       "3  0    0    0  1    0    0    0    1    1    0  ...    0     1     0    0   \n",
       "4  0    0    0  1    0    0    0    1    1    0  ...    0     1     0    0   \n",
       "\n",
       "   0.13  0.14  1.6  0.15  0.16  0.17  \n",
       "0     1     0    1     0     0     0  \n",
       "1     0     1    1     0     0     0  \n",
       "2     0     0    1     0     0     0  \n",
       "3     1     0    1     0     0     0  \n",
       "4     0     1    1     0     0     0  \n",
       "\n",
       "[5 rows x 25 columns]"
      ]
     },
     "execution_count": 64,
     "metadata": {},
     "output_type": "execute_result"
    }
   ],
   "source": [
    "url = 'https://raw.githubusercontent.com/GusttavoLopes/machine-learning/main/cars.csv'\n",
    "df = pd.read_csv(url, delimiter=';', error_bad_lines=False)\n",
    "df.head()"
   ]
  },
  {
   "cell_type": "markdown",
   "metadata": {
    "id": "Zl7Mz6xwkPWI"
   },
   "source": [
    "1727 linhas/25 colunas"
   ]
  },
  {
   "cell_type": "code",
   "execution_count": 65,
   "metadata": {
    "colab": {
     "base_uri": "https://localhost:8080/"
    },
    "id": "cp3_T1x8kIwf",
    "outputId": "712360d5-90e4-480d-d717-e018180864a3"
   },
   "outputs": [
    {
     "data": {
      "text/plain": [
       "(1727, 25)"
      ]
     },
     "execution_count": 65,
     "metadata": {},
     "output_type": "execute_result"
    }
   ],
   "source": [
    "df.shape"
   ]
  },
  {
   "cell_type": "markdown",
   "metadata": {
    "id": "VGIunyXkaC5y"
   },
   "source": [
    "### K-means"
   ]
  },
  {
   "cell_type": "code",
   "execution_count": 66,
   "metadata": {
    "colab": {
     "base_uri": "https://localhost:8080/"
    },
    "id": "oxs08KN1aD2L",
    "outputId": "e0b8f6fb-48d4-4679-cad5-d5bd715ee31a"
   },
   "outputs": [
    {
     "data": {
      "text/plain": [
       "KMeans(init='random', n_clusters=3)"
      ]
     },
     "execution_count": 66,
     "metadata": {},
     "output_type": "execute_result"
    }
   ],
   "source": [
    "kmeans = KMeans(n_clusters = 3, init = 'random')\n",
    "kmeans"
   ]
  },
  {
   "cell_type": "markdown",
   "metadata": {
    "id": "ayvuF0RAmmxQ"
   },
   "source": [
    "Treinamento"
   ]
  },
  {
   "cell_type": "code",
   "execution_count": 67,
   "metadata": {
    "colab": {
     "base_uri": "https://localhost:8080/"
    },
    "id": "K8In_t1MmkP7",
    "outputId": "b1b68693-8b4c-4588-8e21-9975ebcd824a"
   },
   "outputs": [
    {
     "data": {
      "text/plain": [
       "KMeans(init='random', n_clusters=3)"
      ]
     },
     "execution_count": 67,
     "metadata": {},
     "output_type": "execute_result"
    }
   ],
   "source": [
    "kmeans.fit(df)"
   ]
  },
  {
   "cell_type": "markdown",
   "metadata": {
    "id": "nywBVyJ4mwCI"
   },
   "source": [
    "**Centroids**"
   ]
  },
  {
   "cell_type": "code",
   "execution_count": 68,
   "metadata": {
    "colab": {
     "base_uri": "https://localhost:8080/"
    },
    "id": "u2EZriU_m7Uk",
    "outputId": "878cedb6-b0d1-4993-e794-40c4a3c00328"
   },
   "outputs": [
    {
     "data": {
      "text/plain": [
       "array([[ 1.79810726e-01,  1.95583596e-01,  2.83911672e-01,\n",
       "         3.40694006e-01,  1.95583596e-01,  1.95583596e-01,\n",
       "         2.68138801e-01,  3.40694006e-01,  2.87066246e-01,\n",
       "         2.46056782e-01,  2.33438486e-01,  2.33438486e-01,\n",
       "         1.11022302e-16,  4.92113565e-01,  5.07886435e-01,\n",
       "         4.06940063e-01,  3.15457413e-01,  2.77602524e-01,\n",
       "         6.05678233e-01,  2.60252366e-01,  1.34069401e-01,\n",
       "         1.00000000e+00,  3.33066907e-16,  4.85722573e-17,\n",
       "        -6.93889390e-18],\n",
       "       [ 2.50434783e-01,  2.50434783e-01,  2.50434783e-01,\n",
       "         2.48695652e-01,  2.50434783e-01,  2.50434783e-01,\n",
       "         2.50434783e-01,  2.48695652e-01,  2.48695652e-01,\n",
       "         2.50434783e-01,  2.50434783e-01,  2.50434783e-01,\n",
       "         1.00000000e+00,  2.22044605e-16,  2.22044605e-16,\n",
       "         3.32173913e-01,  3.33913043e-01,  3.33913043e-01,\n",
       "         3.32173913e-01,  3.33913043e-01,  3.33913043e-01,\n",
       "         1.00000000e+00,  2.77555756e-16,  4.16333634e-17,\n",
       "        -6.93889390e-18],\n",
       "       [ 3.35907336e-01,  3.16602317e-01,  2.08494208e-01,\n",
       "         1.38996139e-01,  3.16602317e-01,  3.16602317e-01,\n",
       "         2.27799228e-01,  1.38996139e-01,  2.04633205e-01,\n",
       "         2.54826255e-01,  2.70270270e-01,  2.70270270e-01,\n",
       "         3.88578059e-16,  5.09652510e-01,  4.90347490e-01,\n",
       "         2.43243243e-01,  3.55212355e-01,  4.01544402e-01,\n",
       "         3.88578059e-16,  4.22779923e-01,  5.77220077e-01,\n",
       "        -2.22044605e-16,  7.41312741e-01,  1.33204633e-01,\n",
       "         1.25482625e-01]])"
      ]
     },
     "execution_count": 68,
     "metadata": {},
     "output_type": "execute_result"
    }
   ],
   "source": [
    "kmeans.cluster_centers_"
   ]
  },
  {
   "cell_type": "markdown",
   "metadata": {
    "id": "XRPAUHmAnA03"
   },
   "source": [
    "novo treinamento"
   ]
  },
  {
   "cell_type": "code",
   "execution_count": 69,
   "metadata": {
    "colab": {
     "base_uri": "https://localhost:8080/"
    },
    "id": "5GJvj1xknaMJ",
    "outputId": "657599c3-f24d-4304-88dd-4a813e78a56d"
   },
   "outputs": [
    {
     "data": {
      "text/plain": [
       "KMeans(init='random', n_clusters=3)"
      ]
     },
     "execution_count": 69,
     "metadata": {},
     "output_type": "execute_result"
    }
   ],
   "source": [
    "kmeans.fit(df)"
   ]
  },
  {
   "cell_type": "markdown",
   "metadata": {
    "id": "RrSt8TaFnhtT"
   },
   "source": [
    "**Centroids**"
   ]
  },
  {
   "cell_type": "code",
   "execution_count": 70,
   "metadata": {
    "colab": {
     "base_uri": "https://localhost:8080/"
    },
    "id": "uxFrOFd2nppw",
    "outputId": "a2f0102a-d8ea-427d-c0bc-ec0dc21bda57"
   },
   "outputs": [
    {
     "data": {
      "text/plain": [
       "array([[ 1.79810726e-01,  1.95583596e-01,  2.83911672e-01,\n",
       "         3.40694006e-01,  1.95583596e-01,  1.95583596e-01,\n",
       "         2.68138801e-01,  3.40694006e-01,  2.87066246e-01,\n",
       "         2.46056782e-01,  2.33438486e-01,  2.33438486e-01,\n",
       "         1.11022302e-16,  4.92113565e-01,  5.07886435e-01,\n",
       "         4.06940063e-01,  3.15457413e-01,  2.77602524e-01,\n",
       "         6.05678233e-01,  2.60252366e-01,  1.34069401e-01,\n",
       "         1.00000000e+00,  3.60822483e-16,  4.85722573e-17,\n",
       "        -6.93889390e-18],\n",
       "       [ 2.50434783e-01,  2.50434783e-01,  2.50434783e-01,\n",
       "         2.48695652e-01,  2.50434783e-01,  2.50434783e-01,\n",
       "         2.50434783e-01,  2.48695652e-01,  2.48695652e-01,\n",
       "         2.50434783e-01,  2.50434783e-01,  2.50434783e-01,\n",
       "         1.00000000e+00,  2.22044605e-16,  2.22044605e-16,\n",
       "         3.32173913e-01,  3.33913043e-01,  3.33913043e-01,\n",
       "         3.32173913e-01,  3.33913043e-01,  3.33913043e-01,\n",
       "         1.00000000e+00,  2.77555756e-16,  4.16333634e-17,\n",
       "        -1.38777878e-17],\n",
       "       [ 3.35907336e-01,  3.16602317e-01,  2.08494208e-01,\n",
       "         1.38996139e-01,  3.16602317e-01,  3.16602317e-01,\n",
       "         2.27799228e-01,  1.38996139e-01,  2.04633205e-01,\n",
       "         2.54826255e-01,  2.70270270e-01,  2.70270270e-01,\n",
       "         4.44089210e-16,  5.09652510e-01,  4.90347490e-01,\n",
       "         2.43243243e-01,  3.55212355e-01,  4.01544402e-01,\n",
       "         4.44089210e-16,  4.22779923e-01,  5.77220077e-01,\n",
       "        -3.33066907e-16,  7.41312741e-01,  1.33204633e-01,\n",
       "         1.25482625e-01]])"
      ]
     },
     "execution_count": 70,
     "metadata": {},
     "output_type": "execute_result"
    }
   ],
   "source": [
    "kmeans.cluster_centers_"
   ]
  },
  {
   "cell_type": "markdown",
   "metadata": {
    "id": "0TqFnFdvnw-c"
   },
   "source": [
    "Calculo da distância entre os dados"
   ]
  },
  {
   "cell_type": "code",
   "execution_count": 71,
   "metadata": {
    "colab": {
     "base_uri": "https://localhost:8080/"
    },
    "id": "Pf8Csw4vn6A9",
    "outputId": "8668c9da-9f09-4453-9cfe-d36c29183c97"
   },
   "outputs": [
    {
     "data": {
      "text/plain": [
       "array([[2.72853075, 2.19254136, 1.89534421],\n",
       "       [2.67132921, 2.24935625, 1.89534421],\n",
       "       [2.84015874, 2.07348768, 1.89534421],\n",
       "       ...,\n",
       "       [2.47241456, 2.01953732, 2.36260341],\n",
       "       [2.23626131, 2.60180374, 2.75289241],\n",
       "       [2.16966088, 2.64985823, 2.75289241]])"
      ]
     },
     "execution_count": 71,
     "metadata": {},
     "output_type": "execute_result"
    }
   ],
   "source": [
    "distance = kmeans.fit_transform(df)\n",
    "distance"
   ]
  },
  {
   "cell_type": "code",
   "execution_count": 72,
   "metadata": {
    "colab": {
     "base_uri": "https://localhost:8080/"
    },
    "id": "izlFz8Lzov33",
    "outputId": "4ade1eb4-7237-4ee2-cf86-ab132eb6d884"
   },
   "outputs": [
    {
     "data": {
      "text/plain": [
       "array([2, 2, 2, ..., 1, 0, 0], dtype=int32)"
      ]
     },
     "execution_count": 72,
     "metadata": {},
     "output_type": "execute_result"
    }
   ],
   "source": [
    "labels = kmeans.labels_\n",
    "labels"
   ]
  },
  {
   "cell_type": "markdown",
   "metadata": {
    "id": "pIDidQ_wpFvQ"
   },
   "source": [
    "**Centroids**"
   ]
  },
  {
   "cell_type": "code",
   "execution_count": 73,
   "metadata": {
    "colab": {
     "base_uri": "https://localhost:8080/"
    },
    "id": "TQn8GcenowvZ",
    "outputId": "33fe90a3-2bba-4ac4-9b0d-f83956c4c02c"
   },
   "outputs": [
    {
     "data": {
      "text/plain": [
       "array([[ 3.35907336e-01,  3.16602317e-01,  2.08494208e-01,\n",
       "         1.38996139e-01,  3.16602317e-01,  3.16602317e-01,\n",
       "         2.27799228e-01,  1.38996139e-01,  2.04633205e-01,\n",
       "         2.54826255e-01,  2.70270270e-01,  2.70270270e-01,\n",
       "         3.88578059e-16,  5.09652510e-01,  4.90347490e-01,\n",
       "         2.43243243e-01,  3.55212355e-01,  4.01544402e-01,\n",
       "         3.88578059e-16,  4.22779923e-01,  5.77220077e-01,\n",
       "        -3.33066907e-16,  7.41312741e-01,  1.33204633e-01,\n",
       "         1.25482625e-01],\n",
       "       [ 1.79810726e-01,  1.95583596e-01,  2.83911672e-01,\n",
       "         3.40694006e-01,  1.95583596e-01,  1.95583596e-01,\n",
       "         2.68138801e-01,  3.40694006e-01,  2.87066246e-01,\n",
       "         2.46056782e-01,  2.33438486e-01,  2.33438486e-01,\n",
       "         1.66533454e-16,  4.92113565e-01,  5.07886435e-01,\n",
       "         4.06940063e-01,  3.15457413e-01,  2.77602524e-01,\n",
       "         6.05678233e-01,  2.60252366e-01,  1.34069401e-01,\n",
       "         1.00000000e+00,  3.33066907e-16,  4.85722573e-17,\n",
       "        -6.93889390e-18],\n",
       "       [ 2.50434783e-01,  2.50434783e-01,  2.50434783e-01,\n",
       "         2.48695652e-01,  2.50434783e-01,  2.50434783e-01,\n",
       "         2.50434783e-01,  2.48695652e-01,  2.48695652e-01,\n",
       "         2.50434783e-01,  2.50434783e-01,  2.50434783e-01,\n",
       "         1.00000000e+00,  2.22044605e-16,  2.22044605e-16,\n",
       "         3.32173913e-01,  3.33913043e-01,  3.33913043e-01,\n",
       "         3.32173913e-01,  3.33913043e-01,  3.33913043e-01,\n",
       "         1.00000000e+00,  3.05311332e-16,  4.16333634e-17,\n",
       "        -1.38777878e-17]])"
      ]
     },
     "execution_count": 73,
     "metadata": {},
     "output_type": "execute_result"
    }
   ],
   "source": [
    "kmeans.cluster_centers_"
   ]
  },
  {
   "cell_type": "markdown",
   "metadata": {
    "id": "i22LrRNpqDSM"
   },
   "source": [
    "#### WCSSE"
   ]
  },
  {
   "cell_type": "code",
   "execution_count": 74,
   "metadata": {
    "colab": {
     "base_uri": "https://localhost:8080/"
    },
    "id": "h0qwxIhlp9vh",
    "outputId": "cfb230a7-a11f-4f47-c0e7-1a8425bdde9f"
   },
   "outputs": [
    {
     "name": "stdout",
     "output_type": "stream",
     "text": [
      "1 8129.791546033569\n",
      "2 7253.8713956778465\n",
      "3 6752.173914801608\n",
      "4 6432.230151292491\n",
      "5 6173.01578561117\n",
      "6 6023.1746988604755\n",
      "7 5804.202448741753\n",
      "8 5697.896308153802\n",
      "9 5524.86016324322\n",
      "10 5492.076528514668\n"
     ]
    }
   ],
   "source": [
    "wcsse = []\n",
    "maxclusters = 11\n",
    "for i in range(1, maxclusters):\n",
    "    kmeans = KMeans(n_clusters = i, init = 'random')\n",
    "    kmeans.fit(df)\n",
    "    print (i,kmeans.inertia_)\n",
    "    wcsse.append(kmeans.inertia_)"
   ]
  },
  {
   "cell_type": "markdown",
   "metadata": {
    "id": "_vWXEozBqW_j"
   },
   "source": [
    "#### Método de Elbow - Gráfico"
   ]
  },
  {
   "cell_type": "code",
   "execution_count": 75,
   "metadata": {
    "colab": {
     "base_uri": "https://localhost:8080/",
     "height": 295
    },
    "id": "23J-_-tkqSly",
    "outputId": "d975c62a-d459-49c9-f038-a4e0291fb1e6"
   },
   "outputs": [
    {
     "data": {
      "image/png": "[encoded data removed]",
      "text/plain": [
       "<Figure size 432x288 with 1 Axes>"
      ]
     },
     "metadata": {
      "needs_background": "light"
     },
     "output_type": "display_data"
    }
   ],
   "source": [
    "plt.plot(range(1, maxclusters), wcsse)\n",
    "plt.title('Elbow')\n",
    "plt.xlabel('Qtd. Clusters')\n",
    "plt.ylabel('WCSSE') # Within Cluster Sum of Squares\n",
    "plt.show()"
   ]
  },
  {
   "cell_type": "markdown",
   "metadata": {
    "id": "rsgpACg1qv1F"
   },
   "source": [
    "#### Previsões"
   ]
  },
  {
   "cell_type": "code",
   "execution_count": 76,
   "metadata": {
    "colab": {
     "base_uri": "https://localhost:8080/"
    },
    "id": "guu7xd-FqqJW",
    "outputId": "fc2c3d58-f623-45a8-f924-adb9e056df66"
   },
   "outputs": [
    {
     "name": "stderr",
     "output_type": "stream",
     "text": [
      "/home/gustavo/.local/lib/python3.8/site-packages/sklearn/base.py:441: UserWarning: X does not have valid feature names, but KMeans was fitted with feature names\n",
      "  warnings.warn(\n"
     ]
    },
    {
     "data": {
      "text/plain": [
       "array([5], dtype=int32)"
      ]
     },
     "execution_count": 76,
     "metadata": {},
     "output_type": "execute_result"
    }
   ],
   "source": [
    "newcustomer1= [ [1, 1, 1, 1, 1, 1, 1, 1, 1, 1,1, 1, 1, 1, 1, 1, 1, 1, 1, 1, 1, 1, 1, 1, 1] ]\n",
    "kmeans.predict(newcustomer1)"
   ]
  },
  {
   "cell_type": "code",
   "execution_count": 77,
   "metadata": {
    "colab": {
     "base_uri": "https://localhost:8080/"
    },
    "id": "GvQfOXUvq_yF",
    "outputId": "4379aa56-b626-451d-e29e-006f7b5e20e5"
   },
   "outputs": [
    {
     "name": "stderr",
     "output_type": "stream",
     "text": [
      "/home/gustavo/.local/lib/python3.8/site-packages/sklearn/base.py:441: UserWarning: X does not have valid feature names, but KMeans was fitted with feature names\n",
      "  warnings.warn(\n"
     ]
    },
    {
     "data": {
      "text/plain": [
       "array([2], dtype=int32)"
      ]
     },
     "execution_count": 77,
     "metadata": {},
     "output_type": "execute_result"
    }
   ],
   "source": [
    "newcustomer2 = [ [1, 0, 0, 0, 1, 1, 1, 1, 0, 1, 1, 0, 0, 0, 1, 1, 1, 1, 0, 1, 0, 1, 1, 0, 0] ]\n",
    "kmeans.predict(newcustomer2)"
   ]
  },
  {
   "cell_type": "code",
   "execution_count": null,
   "metadata": {},
   "outputs": [],
   "source": []
  },
  {
   "cell_type": "code",
   "execution_count": null,
   "metadata": {},
   "outputs": [],
   "source": []
  }
 ],
 "metadata": {
  "colab": {
   "name": "cars",
   "provenance": []
  },
  "kernelspec": {
   "display_name": "Python 3 (ipykernel)",
   "language": "python",
   "name": "python3"
  },
  "language_info": {
   "codemirror_mode": {
    "name": "ipython",
    "version": 3
   },
   "file_extension": ".py",
   "mimetype": "text/x-python",
   "name": "python",
   "nbconvert_exporter": "python",
   "pygments_lexer": "ipython3",
   "version": "3.8.10"
  }
 },
 "nbformat": 4,
 "nbformat_minor": 1
}
